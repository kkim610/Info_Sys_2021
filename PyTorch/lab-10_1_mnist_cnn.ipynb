{
 "cells": [
  {
   "cell_type": "code",
   "execution_count": 1,
   "metadata": {
    "Collapsed": "false",
    "colab": {
     "base_uri": "https://localhost:8080/"
    },
    "executionInfo": {
     "elapsed": 22928,
     "status": "ok",
     "timestamp": 1609464846750,
     "user": {
      "displayName": "Kyeongtaek Kim",
      "photoUrl": "",
      "userId": "08065747541550549224"
     },
     "user_tz": -540
    },
    "id": "RQNbQMQgB6xc",
    "outputId": "0442f16f-0b74-4e2c-addc-dcebf3c5f101"
   },
   "outputs": [
    {
     "name": "stdout",
     "output_type": "stream",
     "text": [
      "Mounted at /content/drive\n"
     ]
    }
   ],
   "source": [
    "from google.colab import drive\r\n",
    "drive.mount('/content/drive')"
   ]
  },
  {
   "cell_type": "code",
   "execution_count": 2,
   "metadata": {
    "Collapsed": "false",
    "colab": {
     "base_uri": "https://localhost:8080/"
    },
    "executionInfo": {
     "elapsed": 23515,
     "status": "ok",
     "timestamp": 1609464847342,
     "user": {
      "displayName": "Kyeongtaek Kim",
      "photoUrl": "",
      "userId": "08065747541550549224"
     },
     "user_tz": -540
    },
    "id": "kK7WBKwNCCmB",
    "outputId": "0f464595-7b56-4e79-dba1-5e3befdbeaa6"
   },
   "outputs": [
    {
     "name": "stdout",
     "output_type": "stream",
     "text": [
      "/content/drive/My Drive/class20211/PyTorch\n"
     ]
    }
   ],
   "source": [
    "cd drive/My Drive/class20211/PyTorch"
   ]
  },
  {
   "cell_type": "markdown",
   "metadata": {
    "Collapsed": "false",
    "id": "w77uhc6xd0ef"
   },
   "source": [
    "### 비디오 lab-10-1 (12분 근처) 명령프롬프트 창 따라하기"
   ]
  },
  {
   "cell_type": "markdown",
   "metadata": {
    "Collapsed": "false",
    "id": "hQgL-EZTfFsg"
   },
   "source": [
    "#### 예제 1"
   ]
  },
  {
   "cell_type": "code",
   "execution_count": 7,
   "metadata": {
    "Collapsed": "false",
    "executionInfo": {
     "elapsed": 718,
     "status": "ok",
     "timestamp": 1609464975776,
     "user": {
      "displayName": "Kyeongtaek Kim",
      "photoUrl": "",
      "userId": "08065747541550549224"
     },
     "user_tz": -540
    },
    "id": "bwbD8lwWdztw"
   },
   "outputs": [],
   "source": [
    "import torch\r\n",
    "import torch.nn as nn"
   ]
  },
  {
   "cell_type": "code",
   "execution_count": 7,
   "metadata": {
    "Collapsed": "false",
    "executionInfo": {
     "elapsed": 1056,
     "status": "ok",
     "timestamp": 1609464976118,
     "user": {
      "displayName": "Kyeongtaek Kim",
      "photoUrl": "",
      "userId": "08065747541550549224"
     },
     "user_tz": -540
    },
    "id": "40pSn4-SliQ7"
   },
   "outputs": [],
   "source": []
  },
  {
   "cell_type": "code",
   "execution_count": 8,
   "metadata": {
    "Collapsed": "false",
    "executionInfo": {
     "elapsed": 1046,
     "status": "ok",
     "timestamp": 1609464976119,
     "user": {
      "displayName": "Kyeongtaek Kim",
      "photoUrl": "",
      "userId": "08065747541550549224"
     },
     "user_tz": -540
    },
    "id": "lZB7SxuEdz2l"
   },
   "outputs": [],
   "source": [
    "conv=nn.Conv2d(1,1,11,stride=4,padding=0)"
   ]
  },
  {
   "cell_type": "code",
   "execution_count": 9,
   "metadata": {
    "Collapsed": "false",
    "colab": {
     "base_uri": "https://localhost:8080/"
    },
    "executionInfo": {
     "elapsed": 1032,
     "status": "ok",
     "timestamp": 1609464976119,
     "user": {
      "displayName": "Kyeongtaek Kim",
      "photoUrl": "",
      "userId": "08065747541550549224"
     },
     "user_tz": -540
    },
    "id": "UyhpAGk8dz6U",
    "outputId": "b9c9272b-ae1b-4da4-ef5d-a3a56653d263"
   },
   "outputs": [
    {
     "data": {
      "text/plain": [
       "Conv2d(1, 1, kernel_size=(11, 11), stride=(4, 4))"
      ]
     },
     "execution_count": 9,
     "metadata": {
      "tags": []
     },
     "output_type": "execute_result"
    }
   ],
   "source": [
    "conv"
   ]
  },
  {
   "cell_type": "code",
   "execution_count": 10,
   "metadata": {
    "Collapsed": "false",
    "colab": {
     "base_uri": "https://localhost:8080/"
    },
    "executionInfo": {
     "elapsed": 1016,
     "status": "ok",
     "timestamp": 1609464976120,
     "user": {
      "displayName": "Kyeongtaek Kim",
      "photoUrl": "",
      "userId": "08065747541550549224"
     },
     "user_tz": -540
    },
    "id": "1pa38-PYdz9Y",
    "outputId": "24fa353e-9835-4b70-8c62-ef35e3f9ad6b"
   },
   "outputs": [
    {
     "data": {
      "text/plain": [
       "torch.Size([1, 1, 227, 227])"
      ]
     },
     "execution_count": 10,
     "metadata": {
      "tags": []
     },
     "output_type": "execute_result"
    }
   ],
   "source": [
    "inputs=torch.Tensor(1,1,227,227)\r\n",
    "inputs.shape"
   ]
  },
  {
   "cell_type": "code",
   "execution_count": 11,
   "metadata": {
    "Collapsed": "false",
    "colab": {
     "base_uri": "https://localhost:8080/"
    },
    "executionInfo": {
     "elapsed": 1525,
     "status": "ok",
     "timestamp": 1609464976639,
     "user": {
      "displayName": "Kyeongtaek Kim",
      "photoUrl": "",
      "userId": "08065747541550549224"
     },
     "user_tz": -540
    },
    "id": "-EyndLQsevey",
    "outputId": "3cb0b346-dfab-455e-c3fe-117e348e5fb0"
   },
   "outputs": [
    {
     "data": {
      "text/plain": [
       "torch.Size([1, 1, 55, 55])"
      ]
     },
     "execution_count": 11,
     "metadata": {
      "tags": []
     },
     "output_type": "execute_result"
    }
   ],
   "source": [
    "out=conv(inputs)\r\n",
    "out.shape"
   ]
  },
  {
   "cell_type": "markdown",
   "metadata": {
    "Collapsed": "false",
    "id": "G9dPN0JlfKsF"
   },
   "source": [
    "#### 예제 2"
   ]
  },
  {
   "cell_type": "code",
   "execution_count": 12,
   "metadata": {
    "Collapsed": "false",
    "colab": {
     "base_uri": "https://localhost:8080/"
    },
    "executionInfo": {
     "elapsed": 1518,
     "status": "ok",
     "timestamp": 1609464976640,
     "user": {
      "displayName": "Kyeongtaek Kim",
      "photoUrl": "",
      "userId": "08065747541550549224"
     },
     "user_tz": -540
    },
    "id": "3bxHkqOIfJkX",
    "outputId": "51217218-7b73-4445-c862-9cb9dfd83730"
   },
   "outputs": [
    {
     "data": {
      "text/plain": [
       "torch.Size([1, 1, 29, 29])"
      ]
     },
     "execution_count": 12,
     "metadata": {
      "tags": []
     },
     "output_type": "execute_result"
    }
   ],
   "source": [
    "conv=nn.Conv2d(1,1,7,stride=2,padding=0)\r\n",
    "inputs=torch.Tensor(1,1,64,64)\r\n",
    "out=conv(inputs)\r\n",
    "out.shape"
   ]
  },
  {
   "cell_type": "markdown",
   "metadata": {
    "Collapsed": "false",
    "id": "WQno2MoigEJm"
   },
   "source": [
    "#### 예제 3"
   ]
  },
  {
   "cell_type": "code",
   "execution_count": 12,
   "metadata": {
    "Collapsed": "false",
    "executionInfo": {
     "elapsed": 1510,
     "status": "ok",
     "timestamp": 1609464976640,
     "user": {
      "displayName": "Kyeongtaek Kim",
      "photoUrl": "",
      "userId": "08065747541550549224"
     },
     "user_tz": -540
    },
    "id": "uLipbp4Mevnu"
   },
   "outputs": [],
   "source": []
  },
  {
   "cell_type": "markdown",
   "metadata": {
    "Collapsed": "false",
    "id": "KXUIF7zQgJG_"
   },
   "source": [
    "#### 예제 4"
   ]
  },
  {
   "cell_type": "code",
   "execution_count": 12,
   "metadata": {
    "Collapsed": "false",
    "executionInfo": {
     "elapsed": 1502,
     "status": "ok",
     "timestamp": 1609464976640,
     "user": {
      "displayName": "Kyeongtaek Kim",
      "photoUrl": "",
      "userId": "08065747541550549224"
     },
     "user_tz": -540
    },
    "id": "1GfkNSyvd0AJ"
   },
   "outputs": [],
   "source": []
  },
  {
   "cell_type": "markdown",
   "metadata": {
    "Collapsed": "false",
    "id": "YYxAbecHgLcy"
   },
   "source": [
    "#### 예제 5"
   ]
  },
  {
   "cell_type": "code",
   "execution_count": 12,
   "metadata": {
    "Collapsed": "false",
    "executionInfo": {
     "elapsed": 1494,
     "status": "ok",
     "timestamp": 1609464976641,
     "user": {
      "displayName": "Kyeongtaek Kim",
      "photoUrl": "",
      "userId": "08065747541550549224"
     },
     "user_tz": -540
    },
    "id": "-OqW6ePEgNTi"
   },
   "outputs": [],
   "source": []
  },
  {
   "cell_type": "markdown",
   "metadata": {
    "Collapsed": "false",
    "id": "PzlSJ6tROoK8"
   },
   "source": [
    "### 비디오 lab-10-2 (2분 근처) 명령프롬프트 창 따라하기"
   ]
  },
  {
   "cell_type": "code",
   "execution_count": 13,
   "metadata": {
    "Collapsed": "false",
    "executionInfo": {
     "elapsed": 1487,
     "status": "ok",
     "timestamp": 1609464976641,
     "user": {
      "displayName": "Kyeongtaek Kim",
      "photoUrl": "",
      "userId": "08065747541550549224"
     },
     "user_tz": -540
    },
    "id": "dKertetvOQBN"
   },
   "outputs": [],
   "source": [
    "import torch.nn as nn"
   ]
  },
  {
   "cell_type": "code",
   "execution_count": 14,
   "metadata": {
    "Collapsed": "false",
    "executionInfo": {
     "elapsed": 1480,
     "status": "ok",
     "timestamp": 1609464976642,
     "user": {
      "displayName": "Kyeongtaek Kim",
      "photoUrl": "",
      "userId": "08065747541550549224"
     },
     "user_tz": -540
    },
    "id": "5z4257wIOQEr"
   },
   "outputs": [],
   "source": [
    "inputs=torch.Tensor(1,1,28,28)"
   ]
  },
  {
   "cell_type": "code",
   "execution_count": 15,
   "metadata": {
    "Collapsed": "false",
    "colab": {
     "base_uri": "https://localhost:8080/"
    },
    "executionInfo": {
     "elapsed": 1471,
     "status": "ok",
     "timestamp": 1609464976642,
     "user": {
      "displayName": "Kyeongtaek Kim",
      "photoUrl": "",
      "userId": "08065747541550549224"
     },
     "user_tz": -540
    },
    "id": "Qr_dgFSPOQIb",
    "outputId": "c907c952-cad7-4a5e-a0fd-f6e31464c961"
   },
   "outputs": [
    {
     "data": {
      "text/plain": [
       "torch.Size([1, 1, 28, 28])"
      ]
     },
     "execution_count": 15,
     "metadata": {
      "tags": []
     },
     "output_type": "execute_result"
    }
   ],
   "source": [
    "inputs.shape"
   ]
  },
  {
   "cell_type": "code",
   "execution_count": 16,
   "metadata": {
    "Collapsed": "false",
    "colab": {
     "base_uri": "https://localhost:8080/"
    },
    "executionInfo": {
     "elapsed": 1464,
     "status": "ok",
     "timestamp": 1609464976642,
     "user": {
      "displayName": "Kyeongtaek Kim",
      "photoUrl": "",
      "userId": "08065747541550549224"
     },
     "user_tz": -540
    },
    "id": "uegDkH9IOQL8",
    "outputId": "7b5a01d9-453d-43d6-9cd2-7558f7c6d7de"
   },
   "outputs": [
    {
     "data": {
      "text/plain": [
       "Conv2d(1, 32, kernel_size=(3, 3), stride=(1, 1), padding=(1, 1))"
      ]
     },
     "execution_count": 16,
     "metadata": {
      "tags": []
     },
     "output_type": "execute_result"
    }
   ],
   "source": [
    "conv1=nn.Conv2d(1,32,3,padding=1)\r\n",
    "conv1"
   ]
  },
  {
   "cell_type": "code",
   "execution_count": 17,
   "metadata": {
    "Collapsed": "false",
    "colab": {
     "base_uri": "https://localhost:8080/"
    },
    "executionInfo": {
     "elapsed": 1455,
     "status": "ok",
     "timestamp": 1609464976643,
     "user": {
      "displayName": "Kyeongtaek Kim",
      "photoUrl": "",
      "userId": "08065747541550549224"
     },
     "user_tz": -540
    },
    "id": "ntRvTRihOQPK",
    "outputId": "617661fd-0947-4bc2-ce7c-3d0cb1d279e1"
   },
   "outputs": [
    {
     "data": {
      "text/plain": [
       "MaxPool2d(kernel_size=2, stride=2, padding=0, dilation=1, ceil_mode=False)"
      ]
     },
     "execution_count": 17,
     "metadata": {
      "tags": []
     },
     "output_type": "execute_result"
    }
   ],
   "source": [
    "pool=nn.MaxPool2d(2)\r\n",
    "pool"
   ]
  },
  {
   "cell_type": "code",
   "execution_count": 18,
   "metadata": {
    "Collapsed": "false",
    "colab": {
     "base_uri": "https://localhost:8080/"
    },
    "executionInfo": {
     "elapsed": 1448,
     "status": "ok",
     "timestamp": 1609464976643,
     "user": {
      "displayName": "Kyeongtaek Kim",
      "photoUrl": "",
      "userId": "08065747541550549224"
     },
     "user_tz": -540
    },
    "id": "_X9CY_DlUVZD",
    "outputId": "81c47185-2127-49ae-b71f-8e9217e3daf7"
   },
   "outputs": [
    {
     "data": {
      "text/plain": [
       "Conv2d(32, 64, kernel_size=(3, 3), stride=(1, 1), padding=(1, 1))"
      ]
     },
     "execution_count": 18,
     "metadata": {
      "tags": []
     },
     "output_type": "execute_result"
    }
   ],
   "source": [
    "conv2=nn.Conv2d(32,64,3,padding=1)\r\n",
    "conv2"
   ]
  },
  {
   "cell_type": "code",
   "execution_count": 19,
   "metadata": {
    "Collapsed": "false",
    "colab": {
     "base_uri": "https://localhost:8080/"
    },
    "executionInfo": {
     "elapsed": 1442,
     "status": "ok",
     "timestamp": 1609464976644,
     "user": {
      "displayName": "Kyeongtaek Kim",
      "photoUrl": "",
      "userId": "08065747541550549224"
     },
     "user_tz": -540
    },
    "id": "xmZD0mE5UVog",
    "outputId": "b2c5eea1-349c-4d9c-c62a-fdf88511bf55"
   },
   "outputs": [
    {
     "data": {
      "text/plain": [
       "torch.Size([1, 32, 28, 28])"
      ]
     },
     "execution_count": 19,
     "metadata": {
      "tags": []
     },
     "output_type": "execute_result"
    }
   ],
   "source": [
    "out=conv1(inputs)\r\n",
    "out.shape"
   ]
  },
  {
   "cell_type": "code",
   "execution_count": 20,
   "metadata": {
    "Collapsed": "false",
    "colab": {
     "base_uri": "https://localhost:8080/"
    },
    "executionInfo": {
     "elapsed": 1437,
     "status": "ok",
     "timestamp": 1609464976644,
     "user": {
      "displayName": "Kyeongtaek Kim",
      "photoUrl": "",
      "userId": "08065747541550549224"
     },
     "user_tz": -540
    },
    "id": "AA6ON7TcbCIC",
    "outputId": "a8097f9d-a22a-4471-b167-6454ceed24d0"
   },
   "outputs": [
    {
     "data": {
      "text/plain": [
       "torch.Size([1, 32, 14, 14])"
      ]
     },
     "execution_count": 20,
     "metadata": {
      "tags": []
     },
     "output_type": "execute_result"
    }
   ],
   "source": [
    "out=pool(out)\r\n",
    "out.shape"
   ]
  },
  {
   "cell_type": "code",
   "execution_count": 21,
   "metadata": {
    "Collapsed": "false",
    "colab": {
     "base_uri": "https://localhost:8080/"
    },
    "executionInfo": {
     "elapsed": 1432,
     "status": "ok",
     "timestamp": 1609464976645,
     "user": {
      "displayName": "Kyeongtaek Kim",
      "photoUrl": "",
      "userId": "08065747541550549224"
     },
     "user_tz": -540
    },
    "id": "XgoiivcEbCR4",
    "outputId": "763c0514-c889-4cb9-a47c-95d6fcdfb3b7"
   },
   "outputs": [
    {
     "data": {
      "text/plain": [
       "torch.Size([1, 64, 14, 14])"
      ]
     },
     "execution_count": 21,
     "metadata": {
      "tags": []
     },
     "output_type": "execute_result"
    }
   ],
   "source": [
    "out=conv2(out)\r\n",
    "out.shape"
   ]
  },
  {
   "cell_type": "code",
   "execution_count": 22,
   "metadata": {
    "Collapsed": "false",
    "colab": {
     "base_uri": "https://localhost:8080/"
    },
    "executionInfo": {
     "elapsed": 1424,
     "status": "ok",
     "timestamp": 1609464976645,
     "user": {
      "displayName": "Kyeongtaek Kim",
      "photoUrl": "",
      "userId": "08065747541550549224"
     },
     "user_tz": -540
    },
    "id": "LBQfWSM9bCV2",
    "outputId": "cd585f62-ca2c-45aa-93b7-d7b775a5cd50"
   },
   "outputs": [
    {
     "data": {
      "text/plain": [
       "torch.Size([1, 64, 7, 7])"
      ]
     },
     "execution_count": 22,
     "metadata": {
      "tags": []
     },
     "output_type": "execute_result"
    }
   ],
   "source": [
    "out=pool(out)\r\n",
    "out.shape"
   ]
  },
  {
   "cell_type": "code",
   "execution_count": 23,
   "metadata": {
    "Collapsed": "false",
    "colab": {
     "base_uri": "https://localhost:8080/"
    },
    "executionInfo": {
     "elapsed": 1418,
     "status": "ok",
     "timestamp": 1609464976645,
     "user": {
      "displayName": "Kyeongtaek Kim",
      "photoUrl": "",
      "userId": "08065747541550549224"
     },
     "user_tz": -540
    },
    "id": "dcYkEXLtUVsY",
    "outputId": "7db96fc5-8489-40ca-eefc-5a790650d602"
   },
   "outputs": [
    {
     "data": {
      "text/plain": [
       "1"
      ]
     },
     "execution_count": 23,
     "metadata": {
      "tags": []
     },
     "output_type": "execute_result"
    }
   ],
   "source": [
    "out.size(0)"
   ]
  },
  {
   "cell_type": "code",
   "execution_count": 24,
   "metadata": {
    "Collapsed": "false",
    "colab": {
     "base_uri": "https://localhost:8080/"
    },
    "executionInfo": {
     "elapsed": 1413,
     "status": "ok",
     "timestamp": 1609464976646,
     "user": {
      "displayName": "Kyeongtaek Kim",
      "photoUrl": "",
      "userId": "08065747541550549224"
     },
     "user_tz": -540
    },
    "id": "3r2emj39cSvR",
    "outputId": "7176a34c-39c2-410e-b262-d4dc7222a164"
   },
   "outputs": [
    {
     "data": {
      "text/plain": [
       "1"
      ]
     },
     "execution_count": 24,
     "metadata": {
      "tags": []
     },
     "output_type": "execute_result"
    }
   ],
   "source": [
    "out.size(0)"
   ]
  },
  {
   "cell_type": "code",
   "execution_count": 25,
   "metadata": {
    "Collapsed": "false",
    "colab": {
     "base_uri": "https://localhost:8080/"
    },
    "executionInfo": {
     "elapsed": 1407,
     "status": "ok",
     "timestamp": 1609464976646,
     "user": {
      "displayName": "Kyeongtaek Kim",
      "photoUrl": "",
      "userId": "08065747541550549224"
     },
     "user_tz": -540
    },
    "id": "ulbnR8oTcSyu",
    "outputId": "dbfecec9-198f-4704-fc82-1ffa3e73f82e"
   },
   "outputs": [
    {
     "data": {
      "text/plain": [
       "torch.Size([1, 3136])"
      ]
     },
     "execution_count": 25,
     "metadata": {
      "tags": []
     },
     "output_type": "execute_result"
    }
   ],
   "source": [
    "out=out.view(out.size(0), -1)\r\n",
    "out.shape"
   ]
  },
  {
   "cell_type": "code",
   "execution_count": 26,
   "metadata": {
    "Collapsed": "false",
    "executionInfo": {
     "elapsed": 1402,
     "status": "ok",
     "timestamp": 1609464976647,
     "user": {
      "displayName": "Kyeongtaek Kim",
      "photoUrl": "",
      "userId": "08065747541550549224"
     },
     "user_tz": -540
    },
    "id": "X6CQF6BfcS2a"
   },
   "outputs": [],
   "source": [
    "fc=nn.Linear(3136,10)"
   ]
  },
  {
   "cell_type": "code",
   "execution_count": 27,
   "metadata": {
    "Collapsed": "false",
    "executionInfo": {
     "elapsed": 1397,
     "status": "ok",
     "timestamp": 1609464976648,
     "user": {
      "displayName": "Kyeongtaek Kim",
      "photoUrl": "",
      "userId": "08065747541550549224"
     },
     "user_tz": -540
    },
    "id": "297CZ7RNdNrO"
   },
   "outputs": [],
   "source": [
    "out=fc(out)"
   ]
  },
  {
   "cell_type": "code",
   "execution_count": 28,
   "metadata": {
    "Collapsed": "false",
    "colab": {
     "base_uri": "https://localhost:8080/"
    },
    "executionInfo": {
     "elapsed": 1391,
     "status": "ok",
     "timestamp": 1609464976649,
     "user": {
      "displayName": "Kyeongtaek Kim",
      "photoUrl": "",
      "userId": "08065747541550549224"
     },
     "user_tz": -540
    },
    "id": "AwFRBVhsdNz2",
    "outputId": "74e318f7-0c44-457d-c1aa-1485de747c72"
   },
   "outputs": [
    {
     "data": {
      "text/plain": [
       "torch.Size([1, 10])"
      ]
     },
     "execution_count": 28,
     "metadata": {
      "tags": []
     },
     "output_type": "execute_result"
    }
   ],
   "source": [
    "out.shape"
   ]
  },
  {
   "cell_type": "code",
   "execution_count": 28,
   "metadata": {
    "Collapsed": "false",
    "executionInfo": {
     "elapsed": 1384,
     "status": "ok",
     "timestamp": 1609464976649,
     "user": {
      "displayName": "Kyeongtaek Kim",
      "photoUrl": "",
      "userId": "08065747541550549224"
     },
     "user_tz": -540
    },
    "id": "rtsTMyj1dN5P"
   },
   "outputs": [],
   "source": []
  },
  {
   "cell_type": "markdown",
   "metadata": {
    "Collapsed": "false",
    "id": "IYqQnyq1g1O-"
   },
   "source": [
    "## 비디오 lab-10-2 (7분 부터)"
   ]
  },
  {
   "cell_type": "code",
   "execution_count": 29,
   "metadata": {
    "Collapsed": "false",
    "executionInfo": {
     "elapsed": 1700,
     "status": "ok",
     "timestamp": 1609464976972,
     "user": {
      "displayName": "Kyeongtaek Kim",
      "photoUrl": "",
      "userId": "08065747541550549224"
     },
     "user_tz": -540
    },
    "id": "CbfT-5xOcS5U"
   },
   "outputs": [],
   "source": [
    "# Lab 11 MNIST and Convolutional Neural Network\r\n",
    "import torch\r\n",
    "import torchvision.datasets as dsets\r\n",
    "import torchvision.transforms as transforms\r\n",
    "import torch.nn as nn\r\n",
    "import torch.nn.init\r\n"
   ]
  },
  {
   "cell_type": "code",
   "execution_count": 30,
   "metadata": {
    "Collapsed": "false",
    "executionInfo": {
     "elapsed": 1694,
     "status": "ok",
     "timestamp": 1609464976973,
     "user": {
      "displayName": "Kyeongtaek Kim",
      "photoUrl": "",
      "userId": "08065747541550549224"
     },
     "user_tz": -540
    },
    "id": "iinwHWBVB5sT"
   },
   "outputs": [],
   "source": [
    "device = 'cuda' if torch.cuda.is_available() else 'cpu'\n",
    "\n",
    "# for reproducibility\n",
    "torch.manual_seed(777)\n",
    "if device == 'cuda':\n",
    "    torch.cuda.manual_seed_all(777)"
   ]
  },
  {
   "cell_type": "code",
   "execution_count": 31,
   "metadata": {
    "Collapsed": "false",
    "executionInfo": {
     "elapsed": 1686,
     "status": "ok",
     "timestamp": 1609464976973,
     "user": {
      "displayName": "Kyeongtaek Kim",
      "photoUrl": "",
      "userId": "08065747541550549224"
     },
     "user_tz": -540
    },
    "id": "VHyTBSoBB5sU"
   },
   "outputs": [],
   "source": [
    "# parameters\n",
    "learning_rate = 0.001\n",
    "training_epochs = 15\n",
    "batch_size = 100"
   ]
  },
  {
   "cell_type": "code",
   "execution_count": 32,
   "metadata": {
    "Collapsed": "false",
    "executionInfo": {
     "elapsed": 3146,
     "status": "ok",
     "timestamp": 1609464978440,
     "user": {
      "displayName": "Kyeongtaek Kim",
      "photoUrl": "",
      "userId": "08065747541550549224"
     },
     "user_tz": -540
    },
    "id": "_2ckBceLB5sU"
   },
   "outputs": [],
   "source": [
    "# MNIST dataset\n",
    "mnist_train = dsets.MNIST(root='MNIST_data/',\n",
    "                          train=True,\n",
    "                          transform=transforms.ToTensor(),\n",
    "                          download=True)\n",
    "\n",
    "mnist_test = dsets.MNIST(root='MNIST_data/',\n",
    "                         train=False,\n",
    "                         transform=transforms.ToTensor(),\n",
    "                         download=True)"
   ]
  },
  {
   "cell_type": "code",
   "execution_count": 33,
   "metadata": {
    "Collapsed": "false",
    "executionInfo": {
     "elapsed": 3141,
     "status": "ok",
     "timestamp": 1609464978441,
     "user": {
      "displayName": "Kyeongtaek Kim",
      "photoUrl": "",
      "userId": "08065747541550549224"
     },
     "user_tz": -540
    },
    "id": "5rmSGoSKB5sV"
   },
   "outputs": [],
   "source": [
    "# dataset loader\n",
    "data_loader = torch.utils.data.DataLoader(dataset=mnist_train,\n",
    "                                          batch_size=batch_size,\n",
    "                                          shuffle=True,\n",
    "                                          drop_last=True)"
   ]
  },
  {
   "cell_type": "code",
   "execution_count": 34,
   "metadata": {
    "Collapsed": "false",
    "executionInfo": {
     "elapsed": 3136,
     "status": "ok",
     "timestamp": 1609464978442,
     "user": {
      "displayName": "Kyeongtaek Kim",
      "photoUrl": "",
      "userId": "08065747541550549224"
     },
     "user_tz": -540
    },
    "id": "pNad-Fc4B5sV"
   },
   "outputs": [],
   "source": [
    "# CNN Model (2 conv layers)\n",
    "class CNN(torch.nn.Module):\n",
    "\n",
    "    def __init__(self):\n",
    "        super(CNN, self).__init__()\n",
    "        # L1 ImgIn shape=(?, 28, 28, 1)\n",
    "        #    Conv     -> (?, 28, 28, 32)\n",
    "        #    Pool     -> (?, 14, 14, 32)\n",
    "        self.layer1 = torch.nn.Sequential(\n",
    "            torch.nn.Conv2d(1, 32, kernel_size=3, stride=1, padding=1),\n",
    "            torch.nn.ReLU(),\n",
    "            torch.nn.MaxPool2d(kernel_size=2, stride=2))\n",
    "        # L2 ImgIn shape=(?, 14, 14, 32)\n",
    "        #    Conv      ->(?, 14, 14, 64)\n",
    "        #    Pool      ->(?, 7, 7, 64)\n",
    "        self.layer2 = torch.nn.Sequential(\n",
    "            torch.nn.Conv2d(32, 64, kernel_size=3, stride=1, padding=1),\n",
    "            torch.nn.ReLU(),\n",
    "            torch.nn.MaxPool2d(kernel_size=2, stride=2))\n",
    "        # Final FC 7x7x64 inputs -> 10 outputs\n",
    "        self.fc = torch.nn.Linear(7 * 7 * 64, 10, bias=True)\n",
    "        torch.nn.init.xavier_uniform_(self.fc.weight)\n",
    "\n",
    "    def forward(self, x):\n",
    "        out = self.layer1(x)\n",
    "        out = self.layer2(out)\n",
    "        out = out.view(out.size(0), -1)   # Flatten them for FC\n",
    "        out = self.fc(out)\n",
    "        return out"
   ]
  },
  {
   "cell_type": "code",
   "execution_count": 35,
   "metadata": {
    "Collapsed": "false",
    "executionInfo": {
     "elapsed": 13487,
     "status": "ok",
     "timestamp": 1609464988801,
     "user": {
      "displayName": "Kyeongtaek Kim",
      "photoUrl": "",
      "userId": "08065747541550549224"
     },
     "user_tz": -540
    },
    "id": "fo96Em07B5sV"
   },
   "outputs": [],
   "source": [
    "# instantiate CNN model\n",
    "model = CNN().to(device)"
   ]
  },
  {
   "cell_type": "code",
   "execution_count": 36,
   "metadata": {
    "Collapsed": "false",
    "colab": {
     "base_uri": "https://localhost:8080/"
    },
    "executionInfo": {
     "elapsed": 13484,
     "status": "ok",
     "timestamp": 1609464988804,
     "user": {
      "displayName": "Kyeongtaek Kim",
      "photoUrl": "",
      "userId": "08065747541550549224"
     },
     "user_tz": -540
    },
    "id": "8N_4F5Yph1-1",
    "outputId": "1d112462-557e-4fc1-e31d-b59b2e682462"
   },
   "outputs": [
    {
     "data": {
      "text/plain": [
       "CNN(\n",
       "  (layer1): Sequential(\n",
       "    (0): Conv2d(1, 32, kernel_size=(3, 3), stride=(1, 1), padding=(1, 1))\n",
       "    (1): ReLU()\n",
       "    (2): MaxPool2d(kernel_size=2, stride=2, padding=0, dilation=1, ceil_mode=False)\n",
       "  )\n",
       "  (layer2): Sequential(\n",
       "    (0): Conv2d(32, 64, kernel_size=(3, 3), stride=(1, 1), padding=(1, 1))\n",
       "    (1): ReLU()\n",
       "    (2): MaxPool2d(kernel_size=2, stride=2, padding=0, dilation=1, ceil_mode=False)\n",
       "  )\n",
       "  (fc): Linear(in_features=3136, out_features=10, bias=True)\n",
       ")"
      ]
     },
     "execution_count": 36,
     "metadata": {
      "tags": []
     },
     "output_type": "execute_result"
    }
   ],
   "source": [
    "model"
   ]
  },
  {
   "cell_type": "code",
   "execution_count": 37,
   "metadata": {
    "Collapsed": "false",
    "executionInfo": {
     "elapsed": 13478,
     "status": "ok",
     "timestamp": 1609464988805,
     "user": {
      "displayName": "Kyeongtaek Kim",
      "photoUrl": "",
      "userId": "08065747541550549224"
     },
     "user_tz": -540
    },
    "id": "d_3mq1-IB5sW"
   },
   "outputs": [],
   "source": [
    "# define cost/loss & optimizer\n",
    "criterion = torch.nn.CrossEntropyLoss().to(device)    # Softmax is internally computed.\n",
    "optimizer = torch.optim.Adam(model.parameters(), lr=learning_rate)"
   ]
  },
  {
   "cell_type": "code",
   "execution_count": 38,
   "metadata": {
    "Collapsed": "false",
    "colab": {
     "base_uri": "https://localhost:8080/"
    },
    "executionInfo": {
     "elapsed": 90728,
     "status": "ok",
     "timestamp": 1609465066062,
     "user": {
      "displayName": "Kyeongtaek Kim",
      "photoUrl": "",
      "userId": "08065747541550549224"
     },
     "user_tz": -540
    },
    "id": "wL1a9_RqB5sW",
    "outputId": "8077ab60-a110-483a-8d13-252e190f9ac9"
   },
   "outputs": [
    {
     "name": "stdout",
     "output_type": "stream",
     "text": [
      "Learning started. It takes sometime.\n",
      "[Epoch:    1] cost = 0.220208153\n",
      "[Epoch:    2] cost = 0.0608730577\n",
      "[Epoch:    3] cost = 0.0460902005\n",
      "[Epoch:    4] cost = 0.0365734324\n",
      "[Epoch:    5] cost = 0.030059427\n",
      "[Epoch:    6] cost = 0.0262925848\n",
      "[Epoch:    7] cost = 0.0205167979\n",
      "[Epoch:    8] cost = 0.0186392795\n",
      "[Epoch:    9] cost = 0.0155233936\n",
      "[Epoch:   10] cost = 0.0133829284\n",
      "[Epoch:   11] cost = 0.0114775142\n",
      "[Epoch:   12] cost = 0.00884278025\n",
      "[Epoch:   13] cost = 0.00891989563\n",
      "[Epoch:   14] cost = 0.00632858044\n",
      "[Epoch:   15] cost = 0.00677486602\n",
      "Learning Finished!\n"
     ]
    }
   ],
   "source": [
    "# train my model\n",
    "total_batch = len(data_loader)\n",
    "print('Learning started. It takes sometime.')\n",
    "for epoch in range(training_epochs):\n",
    "    avg_cost = 0\n",
    "\n",
    "    for X, Y in data_loader:\n",
    "        # image is already size of (28x28), no reshape\n",
    "        # label is not one-hot encoded\n",
    "        X = X.to(device)\n",
    "        Y = Y.to(device)\n",
    "\n",
    "        optimizer.zero_grad()\n",
    "        hypothesis = model(X)\n",
    "        cost = criterion(hypothesis, Y)\n",
    "        cost.backward()\n",
    "        optimizer.step()\n",
    "\n",
    "        avg_cost += cost / total_batch\n",
    "\n",
    "    print('[Epoch: {:>4}] cost = {:>.9}'.format(epoch + 1, avg_cost))\n",
    "\n",
    "print('Learning Finished!')"
   ]
  },
  {
   "cell_type": "code",
   "execution_count": 39,
   "metadata": {
    "Collapsed": "false",
    "colab": {
     "base_uri": "https://localhost:8080/"
    },
    "executionInfo": {
     "elapsed": 90724,
     "status": "ok",
     "timestamp": 1609465066064,
     "user": {
      "displayName": "Kyeongtaek Kim",
      "photoUrl": "",
      "userId": "08065747541550549224"
     },
     "user_tz": -540
    },
    "id": "fSYu8WpFB5sW",
    "outputId": "837be478-2487-4a73-b60e-b6c397812f40"
   },
   "outputs": [
    {
     "name": "stdout",
     "output_type": "stream",
     "text": [
      "Accuracy: 0.9842999577522278\n"
     ]
    },
    {
     "name": "stderr",
     "output_type": "stream",
     "text": [
      "/usr/local/lib/python3.6/dist-packages/torchvision/datasets/mnist.py:63: UserWarning: test_data has been renamed data\n",
      "  warnings.warn(\"test_data has been renamed data\")\n",
      "/usr/local/lib/python3.6/dist-packages/torchvision/datasets/mnist.py:53: UserWarning: test_labels has been renamed targets\n",
      "  warnings.warn(\"test_labels has been renamed targets\")\n"
     ]
    }
   ],
   "source": [
    "# Test model and check accuracy\n",
    "with torch.no_grad():\n",
    "    X_test = mnist_test.test_data.view(len(mnist_test), 1, 28, 28).float().to(device)\n",
    "    Y_test = mnist_test.test_labels.to(device)\n",
    "\n",
    "    prediction = model(X_test)\n",
    "    correct_prediction = torch.argmax(prediction, 1) == Y_test\n",
    "    accuracy = correct_prediction.float().mean()\n",
    "    print('Accuracy:', accuracy.item())"
   ]
  }
 ],
 "metadata": {
  "accelerator": "GPU",
  "colab": {
   "collapsed_sections": [],
   "name": "lab-10_1_mnist_cnn.ipynb",
   "provenance": []
  },
  "kernelspec": {
   "display_name": "Python 3",
   "language": "python",
   "name": "python3"
  },
  "language_info": {
   "codemirror_mode": {
    "name": "ipython",
    "version": 3
   },
   "file_extension": ".py",
   "mimetype": "text/x-python",
   "name": "python",
   "nbconvert_exporter": "python",
   "pygments_lexer": "ipython3",
   "version": "3.7.6"
  }
 },
 "nbformat": 4,
 "nbformat_minor": 4
}
